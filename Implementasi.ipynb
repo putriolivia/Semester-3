{
  "cells": [
    {
      "cell_type": "code",
      "execution_count": null,
      "metadata": {
        "id": "X1nvarPfnUyU"
      },
      "outputs": [],
      "source": [
        "import pandas as pd"
      ]
    },
    {
      "cell_type": "code",
      "execution_count": null,
      "metadata": {
        "colab": {
          "base_uri": "https://localhost:8080/",
          "height": 520
        },
        "id": "-cLS4xb0uX9Q",
        "outputId": "da3c0391-4738-4154-f2d1-6ad15ce9e894"
      },
      "outputs": [
        {
          "data": {
            "text/html": [
              "\n",
              "  <div id=\"df-2e422829-90ca-4140-b7fa-276d5e276047\">\n",
              "    <div class=\"colab-df-container\">\n",
              "      <div>\n",
              "<style scoped>\n",
              "    .dataframe tbody tr th:only-of-type {\n",
              "        vertical-align: middle;\n",
              "    }\n",
              "\n",
              "    .dataframe tbody tr th {\n",
              "        vertical-align: top;\n",
              "    }\n",
              "\n",
              "    .dataframe thead th {\n",
              "        text-align: right;\n",
              "    }\n",
              "</style>\n",
              "<table border=\"1\" class=\"dataframe\">\n",
              "  <thead>\n",
              "    <tr style=\"text-align: right;\">\n",
              "      <th></th>\n",
              "      <th>genre</th>\n",
              "      <th>region</th>\n",
              "      <th>sales</th>\n",
              "    </tr>\n",
              "  </thead>\n",
              "  <tbody>\n",
              "    <tr>\n",
              "      <th>0</th>\n",
              "      <td>Action</td>\n",
              "      <td>European Union</td>\n",
              "      <td>510.99</td>\n",
              "    </tr>\n",
              "    <tr>\n",
              "      <th>1</th>\n",
              "      <td>Action</td>\n",
              "      <td>Japan</td>\n",
              "      <td>160.15</td>\n",
              "    </tr>\n",
              "    <tr>\n",
              "      <th>2</th>\n",
              "      <td>Action</td>\n",
              "      <td>North America</td>\n",
              "      <td>863.17</td>\n",
              "    </tr>\n",
              "    <tr>\n",
              "      <th>3</th>\n",
              "      <td>Action</td>\n",
              "      <td>Other</td>\n",
              "      <td>182.22</td>\n",
              "    </tr>\n",
              "    <tr>\n",
              "      <th>4</th>\n",
              "      <td>Action</td>\n",
              "      <td>Worldwide</td>\n",
              "      <td>1717.63</td>\n",
              "    </tr>\n",
              "    <tr>\n",
              "      <th>5</th>\n",
              "      <td>Adventure</td>\n",
              "      <td>European Union</td>\n",
              "      <td>63.20</td>\n",
              "    </tr>\n",
              "    <tr>\n",
              "      <th>6</th>\n",
              "      <td>Adventure</td>\n",
              "      <td>Japan</td>\n",
              "      <td>52.24</td>\n",
              "    </tr>\n",
              "    <tr>\n",
              "      <th>7</th>\n",
              "      <td>Adventure</td>\n",
              "      <td>North America</td>\n",
              "      <td>101.52</td>\n",
              "    </tr>\n",
              "    <tr>\n",
              "      <th>8</th>\n",
              "      <td>Adventure</td>\n",
              "      <td>Other</td>\n",
              "      <td>16.37</td>\n",
              "    </tr>\n",
              "    <tr>\n",
              "      <th>9</th>\n",
              "      <td>Adventure</td>\n",
              "      <td>Worldwide</td>\n",
              "      <td>233.46</td>\n",
              "    </tr>\n",
              "    <tr>\n",
              "      <th>10</th>\n",
              "      <td>Fighting</td>\n",
              "      <td>European Union</td>\n",
              "      <td>99.00</td>\n",
              "    </tr>\n",
              "    <tr>\n",
              "      <th>11</th>\n",
              "      <td>Fighting</td>\n",
              "      <td>Japan</td>\n",
              "      <td>87.28</td>\n",
              "    </tr>\n",
              "    <tr>\n",
              "      <th>12</th>\n",
              "      <td>Fighting</td>\n",
              "      <td>North America</td>\n",
              "      <td>220.51</td>\n",
              "    </tr>\n",
              "    <tr>\n",
              "      <th>13</th>\n",
              "      <td>Fighting</td>\n",
              "      <td>Other</td>\n",
              "      <td>35.87</td>\n",
              "    </tr>\n",
              "    <tr>\n",
              "      <th>14</th>\n",
              "      <td>Fighting</td>\n",
              "      <td>Worldwide</td>\n",
              "      <td>442.63</td>\n",
              "    </tr>\n",
              "  </tbody>\n",
              "</table>\n",
              "</div>\n",
              "      <button class=\"colab-df-convert\" onclick=\"convertToInteractive('df-2e422829-90ca-4140-b7fa-276d5e276047')\"\n",
              "              title=\"Convert this dataframe to an interactive table.\"\n",
              "              style=\"display:none;\">\n",
              "        \n",
              "  <svg xmlns=\"http://www.w3.org/2000/svg\" height=\"24px\"viewBox=\"0 0 24 24\"\n",
              "       width=\"24px\">\n",
              "    <path d=\"M0 0h24v24H0V0z\" fill=\"none\"/>\n",
              "    <path d=\"M18.56 5.44l.94 2.06.94-2.06 2.06-.94-2.06-.94-.94-2.06-.94 2.06-2.06.94zm-11 1L8.5 8.5l.94-2.06 2.06-.94-2.06-.94L8.5 2.5l-.94 2.06-2.06.94zm10 10l.94 2.06.94-2.06 2.06-.94-2.06-.94-.94-2.06-.94 2.06-2.06.94z\"/><path d=\"M17.41 7.96l-1.37-1.37c-.4-.4-.92-.59-1.43-.59-.52 0-1.04.2-1.43.59L10.3 9.45l-7.72 7.72c-.78.78-.78 2.05 0 2.83L4 21.41c.39.39.9.59 1.41.59.51 0 1.02-.2 1.41-.59l7.78-7.78 2.81-2.81c.8-.78.8-2.07 0-2.86zM5.41 20L4 18.59l7.72-7.72 1.47 1.35L5.41 20z\"/>\n",
              "  </svg>\n",
              "      </button>\n",
              "      \n",
              "  <style>\n",
              "    .colab-df-container {\n",
              "      display:flex;\n",
              "      flex-wrap:wrap;\n",
              "      gap: 12px;\n",
              "    }\n",
              "\n",
              "    .colab-df-convert {\n",
              "      background-color: #E8F0FE;\n",
              "      border: none;\n",
              "      border-radius: 50%;\n",
              "      cursor: pointer;\n",
              "      display: none;\n",
              "      fill: #1967D2;\n",
              "      height: 32px;\n",
              "      padding: 0 0 0 0;\n",
              "      width: 32px;\n",
              "    }\n",
              "\n",
              "    .colab-df-convert:hover {\n",
              "      background-color: #E2EBFA;\n",
              "      box-shadow: 0px 1px 2px rgba(60, 64, 67, 0.3), 0px 1px 3px 1px rgba(60, 64, 67, 0.15);\n",
              "      fill: #174EA6;\n",
              "    }\n",
              "\n",
              "    [theme=dark] .colab-df-convert {\n",
              "      background-color: #3B4455;\n",
              "      fill: #D2E3FC;\n",
              "    }\n",
              "\n",
              "    [theme=dark] .colab-df-convert:hover {\n",
              "      background-color: #434B5C;\n",
              "      box-shadow: 0px 1px 3px 1px rgba(0, 0, 0, 0.15);\n",
              "      filter: drop-shadow(0px 1px 2px rgba(0, 0, 0, 0.3));\n",
              "      fill: #FFFFFF;\n",
              "    }\n",
              "  </style>\n",
              "\n",
              "      <script>\n",
              "        const buttonEl =\n",
              "          document.querySelector('#df-2e422829-90ca-4140-b7fa-276d5e276047 button.colab-df-convert');\n",
              "        buttonEl.style.display =\n",
              "          google.colab.kernel.accessAllowed ? 'block' : 'none';\n",
              "\n",
              "        async function convertToInteractive(key) {\n",
              "          const element = document.querySelector('#df-2e422829-90ca-4140-b7fa-276d5e276047');\n",
              "          const dataTable =\n",
              "            await google.colab.kernel.invokeFunction('convertToInteractive',\n",
              "                                                     [key], {});\n",
              "          if (!dataTable) return;\n",
              "\n",
              "          const docLinkHtml = 'Like what you see? Visit the ' +\n",
              "            '<a target=\"_blank\" href=https://colab.research.google.com/notebooks/data_table.ipynb>data table notebook</a>'\n",
              "            + ' to learn more about interactive tables.';\n",
              "          element.innerHTML = '';\n",
              "          dataTable['output_type'] = 'display_data';\n",
              "          await google.colab.output.renderOutput(dataTable, element);\n",
              "          const docLink = document.createElement('div');\n",
              "          docLink.innerHTML = docLinkHtml;\n",
              "          element.appendChild(docLink);\n",
              "        }\n",
              "      </script>\n",
              "    </div>\n",
              "  </div>\n",
              "  "
            ],
            "text/plain": [
              "        genre          region    sales\n",
              "0      Action  European Union   510.99\n",
              "1      Action           Japan   160.15\n",
              "2      Action   North America   863.17\n",
              "3      Action           Other   182.22\n",
              "4      Action       Worldwide  1717.63\n",
              "5   Adventure  European Union    63.20\n",
              "6   Adventure           Japan    52.24\n",
              "7   Adventure   North America   101.52\n",
              "8   Adventure           Other    16.37\n",
              "9   Adventure       Worldwide   233.46\n",
              "10   Fighting  European Union    99.00\n",
              "11   Fighting           Japan    87.28\n",
              "12   Fighting   North America   220.51\n",
              "13   Fighting           Other    35.87\n",
              "14   Fighting       Worldwide   442.63"
            ]
          },
          "execution_count": 27,
          "metadata": {},
          "output_type": "execute_result"
        }
      ],
      "source": [
        "df = pd.read_csv(\"genre_region_totals.csv\")\n",
        "data = df.head(15)\n",
        "data"
      ]
    },
    {
      "cell_type": "code",
      "execution_count": null,
      "metadata": {
        "colab": {
          "base_uri": "https://localhost:8080/"
        },
        "id": "6o_iySZZucir",
        "outputId": "1d27d8b7-4b30-4ee9-980d-7b2dd4ec7b07"
      },
      "outputs": [
        {
          "data": {
            "text/plain": [
              "[['Action', 'European Union', 510.99],\n",
              " ['Action', 'Japan', 160.15],\n",
              " ['Action', 'North America', 863.17],\n",
              " ['Action', 'Other', 182.22],\n",
              " ['Action', 'Worldwide', 1717.63],\n",
              " ['Adventure', 'European Union', 63.2],\n",
              " ['Adventure', 'Japan', 52.24],\n",
              " ['Adventure', 'North America', 101.52],\n",
              " ['Adventure', 'Other', 16.37],\n",
              " ['Adventure', 'Worldwide', 233.46],\n",
              " ['Fighting', 'European Union', 99.0],\n",
              " ['Fighting', 'Japan', 87.28],\n",
              " ['Fighting', 'North America', 220.51],\n",
              " ['Fighting', 'Other', 35.870000000000005],\n",
              " ['Fighting', 'Worldwide', 442.63]]"
            ]
          },
          "execution_count": 28,
          "metadata": {},
          "output_type": "execute_result"
        }
      ],
      "source": [
        "datas = data.values.tolist()\n",
        "datas"
      ]
    },
    {
      "cell_type": "code",
      "execution_count": null,
      "metadata": {
        "colab": {
          "base_uri": "https://localhost:8080/"
        },
        "id": "TZYGpYD4syJp",
        "outputId": "b22e083f-bc1a-468b-bbf1-9d2cda8a790c"
      },
      "outputs": [
        {
          "name": "stdout",
          "output_type": "stream",
          "text": [
            "list data doubly linked list:\n",
            "['Fighting', 'Worldwide', 442.63]\n",
            "['Fighting', 'Other', 35.870000000000005]\n",
            "['Fighting', 'North America', 220.51]\n",
            "['Fighting', 'Japan', 87.28]\n",
            "['Fighting', 'European Union', 99.0]\n",
            "['Adventure', 'Worldwide', 233.46]\n",
            "['Adventure', 'Other', 16.37]\n",
            "['Adventure', 'North America', 101.52]\n",
            "['Adventure', 'Japan', 52.24]\n",
            "['Adventure', 'European Union', 63.2]\n",
            "['Action', 'Worldwide', 1717.63]\n",
            "['Action', 'Other', 182.22]\n",
            "['Action', 'North America', 863.17]\n",
            "['Action', 'Japan', 160.15]\n",
            "['Action', 'European Union', 510.99]\n"
          ]
        }
      ],
      "source": [
        "sd=DoublyLinkedList()\n",
        "for i in  datas:\n",
        "  sd.AddStart(i)\n",
        "\n",
        "sd.view()"
      ]
    },
    {
      "cell_type": "code",
      "execution_count": null,
      "metadata": {
        "colab": {
          "base_uri": "https://localhost:8080/"
        },
        "id": "Uq_9uB_Lyn18",
        "outputId": "361625f7-4c2f-4f66-84c5-8cca802bd303"
      },
      "outputs": [
        {
          "name": "stdout",
          "output_type": "stream",
          "text": [
            "list data doubly linked list:\n",
            "['Action', 'European Union', 510]\n",
            "['Fighting', 'Worldwide', 442.63]\n",
            "['Fighting', 'Other', 35.870000000000005]\n",
            "['Fighting', 'North America', 220.51]\n",
            "['Fighting', 'Japan', 87.28]\n",
            "['Fighting', 'European Union', 99.0]\n",
            "['Adventure', 'Worldwide', 233.46]\n",
            "['Adventure', 'Other', 16.37]\n",
            "['Adventure', 'North America', 101.52]\n",
            "['Adventure', 'Japan', 52.24]\n",
            "['Adventure', 'European Union', 63.2]\n",
            "['Action', 'Worldwide', 1717.63]\n",
            "['Action', 'Other', 182.22]\n",
            "['Action', 'North America', 863.17]\n",
            "['Action', 'Japan', 160.15]\n",
            "['Action', 'European Union', 510.99]\n"
          ]
        }
      ],
      "source": [
        "sd.AddStart(['Action', 'European Union', 510])\n",
        "sd.view()"
      ]
    },
    {
      "cell_type": "code",
      "execution_count": null,
      "metadata": {
        "colab": {
          "base_uri": "https://localhost:8080/"
        },
        "id": "ZI1pIdDPyIHd",
        "outputId": "497452ec-2b3f-4143-896e-dadb34a4f179"
      },
      "outputs": [
        {
          "name": "stdout",
          "output_type": "stream",
          "text": [
            "list data doubly linked list:\n",
            "['Action', 'European Union', 510]\n",
            "['Fighting', 'Worldwide', 442.63]\n",
            "['Fighting', 'Other', 35.870000000000005]\n",
            "['Fighting', 'North America', 220.51]\n",
            "['Fighting', 'Japan', 87.28]\n",
            "['Fighting', 'European Union', 99.0]\n",
            "['Adventure', 'Worldwide', 233.46]\n",
            "['Adventure', 'Other', 16.37]\n",
            "['Adventure', 'North America', 101.52]\n",
            "['Adventure', 'Japan', 52.24]\n",
            "['Adventure', 'European Union', 63.2]\n",
            "['Action', 'Worldwide', 1717.63]\n",
            "['Action', 'Other', 182.22]\n",
            "['Action', 'North America', 863.17]\n",
            "['Action', 'Japan', 160.15]\n",
            "['Action', 'European Union', 510.99]\n",
            "['Nort', 'European Union', 510.99]\n"
          ]
        }
      ],
      "source": [
        "sd.AddEnd(['Nort', 'European Union', 510.99])\n",
        "\n",
        "sd.view()"
      ]
    },
    {
      "cell_type": "code",
      "execution_count": null,
      "metadata": {
        "colab": {
          "base_uri": "https://localhost:8080/"
        },
        "id": "s4lCQWYK2BTI",
        "outputId": "522480db-19f6-41c3-a93d-6dc59bff763e"
      },
      "outputs": [
        {
          "name": "stdout",
          "output_type": "stream",
          "text": [
            "True\n"
          ]
        }
      ],
      "source": [
        "print(sd.Search(['Action', 'Other', 182.22]))"
      ]
    },
    {
      "cell_type": "code",
      "execution_count": null,
      "metadata": {
        "colab": {
          "base_uri": "https://localhost:8080/"
        },
        "id": "m-waV9RWyd4m",
        "outputId": "f6524698-8a0f-4793-a236-e5a8508c8a1a"
      },
      "outputs": [
        {
          "name": "stdout",
          "output_type": "stream",
          "text": [
            "list data doubly linked list:\n",
            "['Fighting', 'Other', 35.870000000000005]\n",
            "['Fighting', 'North America', 220.51]\n",
            "['Fighting', 'Japan', 87.28]\n",
            "['Fighting', 'European Union', 99.0]\n",
            "['Adventure', 'Worldwide', 233.46]\n",
            "['Adventure', 'Other', 16.37]\n",
            "['Adventure', 'North America', 101.52]\n",
            "['Adventure', 'Japan', 52.24]\n",
            "['Adventure', 'European Union', 63.2]\n",
            "['Action', 'Worldwide', 1717.63]\n",
            "['Action', 'Other', 182.22]\n",
            "['Action', 'North America', 863.17]\n",
            "['Action', 'Japan', 160.15]\n",
            "['Action', 'European Union', 510.99]\n",
            "['Nort', 'European Union', 510.99]\n"
          ]
        }
      ],
      "source": [
        "sd.DeleteAtStart()\n",
        "sd.view()"
      ]
    },
    {
      "cell_type": "code",
      "execution_count": null,
      "metadata": {
        "colab": {
          "base_uri": "https://localhost:8080/"
        },
        "id": "vVGC-XllynD8",
        "outputId": "a767af74-fc26-4bb2-a7e6-52cadf41d30f"
      },
      "outputs": [
        {
          "name": "stdout",
          "output_type": "stream",
          "text": [
            "list data doubly linked list:\n",
            "['Fighting', 'Other', 35.870000000000005]\n",
            "['Fighting', 'North America', 220.51]\n",
            "['Fighting', 'Japan', 87.28]\n",
            "['Fighting', 'European Union', 99.0]\n",
            "['Adventure', 'Worldwide', 233.46]\n",
            "['Adventure', 'Other', 16.37]\n",
            "['Adventure', 'North America', 101.52]\n",
            "['Adventure', 'Japan', 52.24]\n",
            "['Adventure', 'European Union', 63.2]\n",
            "['Action', 'Worldwide', 1717.63]\n",
            "['Action', 'Other', 182.22]\n",
            "['Action', 'North America', 863.17]\n",
            "['Action', 'Japan', 160.15]\n"
          ]
        }
      ],
      "source": [
        "sd.DeleteAtEnd()\n",
        "sd.view()"
      ]
    }
  ],
  "metadata": {
    "colab": {
      "provenance": []
    },
    "kernelspec": {
      "display_name": "Python 3",
      "name": "python3"
    },
    "language_info": {
      "name": "python"
    }
  },
  "nbformat": 4,
  "nbformat_minor": 0
}
